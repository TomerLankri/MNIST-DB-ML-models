{
 "cells": [
  {
   "cell_type": "code",
   "execution_count": 29,
   "metadata": {},
   "outputs": [
    {
     "name": "stdout",
     "output_type": "stream",
     "text": [
      "dict_keys(['data', 'target', 'frame', 'categories', 'feature_names', 'target_names', 'DESCR', 'details', 'url'])\n"
     ]
    }
   ],
   "source": [
    "from sklearn.datasets import fetch_openml\n",
    "import numpy as np\n",
    "mnist = fetch_openml('mnist_784', version=1)\n",
    "print(mnist.keys())"
   ]
  },
  {
   "cell_type": "code",
   "execution_count": 30,
   "metadata": {
    "scrolled": true
   },
   "outputs": [
    {
     "data": {
      "text/plain": [
       "(70000, 784)"
      ]
     },
     "execution_count": 30,
     "metadata": {},
     "output_type": "execute_result"
    }
   ],
   "source": [
    "mnist['data'].shape"
   ]
  },
  {
   "cell_type": "code",
   "execution_count": 109,
   "metadata": {},
   "outputs": [
    {
     "data": {
      "text/plain": [
       "pixel1       0.0\n",
       "pixel2       0.0\n",
       "pixel3       0.0\n",
       "pixel4       0.0\n",
       "pixel5       0.0\n",
       "            ... \n",
       "pixel780    62.0\n",
       "pixel781     0.0\n",
       "pixel782     0.0\n",
       "pixel783     0.0\n",
       "pixel784     0.0\n",
       "Length: 784, dtype: float64"
      ]
     },
     "execution_count": 109,
     "metadata": {},
     "output_type": "execute_result"
    }
   ],
   "source": [
    "mnist['data'].max()"
   ]
  },
  {
   "cell_type": "code",
   "execution_count": 31,
   "metadata": {
    "scrolled": true
   },
   "outputs": [
    {
     "data": {
      "text/plain": [
       "(70000,)"
      ]
     },
     "execution_count": 31,
     "metadata": {},
     "output_type": "execute_result"
    }
   ],
   "source": [
    "mnist['target'].shape"
   ]
  },
  {
   "cell_type": "code",
   "execution_count": 49,
   "metadata": {},
   "outputs": [],
   "source": [
    "X,y = mnist['data'],mnist[\"target\"]\n",
    "y = y.astype(np.uint8)"
   ]
  },
  {
   "cell_type": "code",
   "execution_count": 50,
   "metadata": {},
   "outputs": [
    {
     "data": {
      "image/png": "[encoded data removed]",
      "text/plain": [
       "<Figure size 432x288 with 1 Axes>"
      ]
     },
     "metadata": {
      "needs_background": "light"
     },
     "output_type": "display_data"
    }
   ],
   "source": [
    "import matplotlib as mpl\n",
    "import matplotlib.pyplot as plt\n",
    "some_digit = X.head(1).to_numpy()\n",
    "some_digit_image = some_digit.reshape(28, 28)\n",
    "plt.imshow(some_digit_image, cmap = mpl.cm.binary, interpolation=\"nearest\")\n",
    "plt.axis(\"off\")\n",
    "plt.show()"
   ]
  },
  {
   "cell_type": "code",
   "execution_count": 51,
   "metadata": {},
   "outputs": [],
   "source": [
    "X_train, X_test, y_train, y_test = X[:60000], X[60000:], y[:60000], y[60000:]\n",
    "# Since it is already randomised according to the DB docs"
   ]
  },
  {
   "cell_type": "code",
   "execution_count": 52,
   "metadata": {
    "scrolled": true
   },
   "outputs": [
    {
     "data": {
      "text/plain": [
       "KNeighborsClassifier()"
      ]
     },
     "execution_count": 52,
     "metadata": {},
     "output_type": "execute_result"
    }
   ],
   "source": [
    "#Let first try to train a KNeighborsClassifier\n",
    "from sklearn.neighbors import KNeighborsClassifier\n",
    "knn_clf = KNeighborsClassifier()\n",
    "knn_clf.fit(X_train, y_train)"
   ]
  },
  {
   "cell_type": "code",
   "execution_count": 56,
   "metadata": {
    "scrolled": true
   },
   "outputs": [
    {
     "data": {
      "text/plain": [
       "0.9688"
      ]
     },
     "execution_count": 56,
     "metadata": {},
     "output_type": "execute_result"
    }
   ],
   "source": [
    "knn_clf.score(X_test, y_test)"
   ]
  },
  {
   "cell_type": "code",
   "execution_count": 65,
   "metadata": {},
   "outputs": [
    {
     "data": {
      "text/plain": [
       "dict_keys(['memory', 'steps', 'verbose', 'knn_clf', 'knn_clf__algorithm', 'knn_clf__leaf_size', 'knn_clf__metric', 'knn_clf__metric_params', 'knn_clf__n_jobs', 'knn_clf__n_neighbors', 'knn_clf__p', 'knn_clf__weights'])"
      ]
     },
     "execution_count": 65,
     "metadata": {},
     "output_type": "execute_result"
    }
   ],
   "source": [
    "#Let's try to get a bit bettter result after playing with the hyperparameters\n",
    "\n",
    "from sklearn.pipeline import Pipeline\n",
    "pipeline = Pipeline([\n",
    "    (\"knn_clf\", KNeighborsClassifier(n_neighbors=50)),\n",
    "])\n",
    "pipeline.get_params().keys()"
   ]
  },
  {
   "cell_type": "code",
   "execution_count": 69,
   "metadata": {},
   "outputs": [
    {
     "name": "stdout",
     "output_type": "stream",
     "text": [
      "Fitting 2 folds for each of 10 candidates, totalling 20 fits\n",
      "[CV] END ............................knn_clf__n_neighbors=48; total time=  21.5s\n",
      "[CV] END ............................knn_clf__n_neighbors=48; total time=  20.9s\n",
      "[CV] END ............................knn_clf__n_neighbors=62; total time=  23.1s\n",
      "[CV] END ............................knn_clf__n_neighbors=62; total time=  21.5s\n",
      "[CV] END ............................knn_clf__n_neighbors=47; total time=  23.7s\n",
      "[CV] END ............................knn_clf__n_neighbors=47; total time=  22.0s\n",
      "[CV] END ............................knn_clf__n_neighbors=49; total time=  20.9s\n",
      "[CV] END ............................knn_clf__n_neighbors=49; total time=  20.8s\n",
      "[CV] END ............................knn_clf__n_neighbors=45; total time=  21.9s\n",
      "[CV] END ............................knn_clf__n_neighbors=45; total time=  21.3s\n",
      "[CV] END ............................knn_clf__n_neighbors=55; total time=  22.4s\n",
      "[CV] END ............................knn_clf__n_neighbors=55; total time=  22.9s\n",
      "[CV] END ............................knn_clf__n_neighbors=60; total time=  22.2s\n",
      "[CV] END ............................knn_clf__n_neighbors=60; total time=  21.3s\n",
      "[CV] END ............................knn_clf__n_neighbors=61; total time=  21.8s\n",
      "[CV] END ............................knn_clf__n_neighbors=61; total time=  20.3s\n",
      "[CV] END ............................knn_clf__n_neighbors=64; total time=  21.6s\n",
      "[CV] END ............................knn_clf__n_neighbors=64; total time=  20.7s\n",
      "[CV] END ............................knn_clf__n_neighbors=52; total time=  21.3s\n",
      "[CV] END ............................knn_clf__n_neighbors=52; total time=  20.9s\n"
     ]
    },
    {
     "data": {
      "text/plain": [
       "RandomizedSearchCV(cv=2,\n",
       "                   estimator=Pipeline(steps=[('knn_clf',\n",
       "                                              KNeighborsClassifier(n_neighbors=50))]),\n",
       "                   param_distributions={'knn_clf__n_neighbors': range(45, 65)},\n",
       "                   verbose=2)"
      ]
     },
     "execution_count": 69,
     "metadata": {},
     "output_type": "execute_result"
    }
   ],
   "source": [
    "from sklearn.model_selection import RandomizedSearchCV\n",
    "param_grid = dict(knn_clf__n_neighbors=range(45, 65))\n",
    "grid_clf = RandomizedSearchCV(pipeline, param_grid, cv=2, verbose=2)\n",
    "grid_clf.fit(X_train, y_train)"
   ]
  },
  {
   "cell_type": "code",
   "execution_count": 70,
   "metadata": {},
   "outputs": [
    {
     "data": {
      "text/plain": [
       "{'knn_clf__n_neighbors': 45}"
      ]
     },
     "execution_count": 70,
     "metadata": {},
     "output_type": "execute_result"
    }
   ],
   "source": [
    "grid_clf.best_params_"
   ]
  },
  {
   "cell_type": "code",
   "execution_count": 71,
   "metadata": {},
   "outputs": [
    {
     "data": {
      "text/plain": [
       "0.9551"
      ]
     },
     "execution_count": 71,
     "metadata": {},
     "output_type": "execute_result"
    }
   ],
   "source": [
    "grid_clf.score(X_test, y_test)"
   ]
  },
  {
   "cell_type": "code",
   "execution_count": 72,
   "metadata": {},
   "outputs": [],
   "source": [
    "#So we can see a big amount of neighbors isen't exactly making things better lets try again with much less"
   ]
  },
  {
   "cell_type": "code",
   "execution_count": 74,
   "metadata": {},
   "outputs": [
    {
     "name": "stdout",
     "output_type": "stream",
     "text": [
      "Fitting 2 folds for each of 10 candidates, totalling 20 fits\n",
      "[CV] END ............................knn_clf__n_neighbors=10; total time=  21.3s\n",
      "[CV] END ............................knn_clf__n_neighbors=10; total time=  20.4s\n",
      "[CV] END .............................knn_clf__n_neighbors=6; total time=  20.9s\n",
      "[CV] END .............................knn_clf__n_neighbors=6; total time=  20.9s\n",
      "[CV] END .............................knn_clf__n_neighbors=3; total time=  19.0s\n",
      "[CV] END .............................knn_clf__n_neighbors=3; total time=  20.0s\n",
      "[CV] END ............................knn_clf__n_neighbors=14; total time=  21.8s\n",
      "[CV] END ............................knn_clf__n_neighbors=14; total time=  21.0s\n",
      "[CV] END .............................knn_clf__n_neighbors=7; total time=  22.5s\n",
      "[CV] END .............................knn_clf__n_neighbors=7; total time=  21.4s\n",
      "[CV] END ............................knn_clf__n_neighbors=12; total time=  22.2s\n",
      "[CV] END ............................knn_clf__n_neighbors=12; total time=  21.2s\n",
      "[CV] END .............................knn_clf__n_neighbors=9; total time=  21.3s\n",
      "[CV] END .............................knn_clf__n_neighbors=9; total time=  21.6s\n",
      "[CV] END .............................knn_clf__n_neighbors=8; total time=  21.1s\n",
      "[CV] END .............................knn_clf__n_neighbors=8; total time=  20.3s\n",
      "[CV] END .............................knn_clf__n_neighbors=5; total time=  21.5s\n",
      "[CV] END .............................knn_clf__n_neighbors=5; total time=  21.3s\n",
      "[CV] END ............................knn_clf__n_neighbors=11; total time=  21.4s\n",
      "[CV] END ............................knn_clf__n_neighbors=11; total time=  20.5s\n"
     ]
    },
    {
     "data": {
      "text/plain": [
       "{'knn_clf__n_neighbors': 3}"
      ]
     },
     "execution_count": 74,
     "metadata": {},
     "output_type": "execute_result"
    }
   ],
   "source": [
    "param_grid = dict(knn_clf__n_neighbors=range(3, 15))\n",
    "grid_clf = RandomizedSearchCV(pipeline, param_grid, cv=2, verbose=2)\n",
    "grid_clf.fit(X_train, y_train)\n",
    "grid_clf.best_params_"
   ]
  },
  {
   "cell_type": "code",
   "execution_count": 75,
   "metadata": {},
   "outputs": [
    {
     "data": {
      "text/plain": [
       "0.9705"
      ]
     },
     "execution_count": 75,
     "metadata": {},
     "output_type": "execute_result"
    }
   ],
   "source": [
    "grid_clf.score(X_test, y_test)"
   ]
  },
  {
   "cell_type": "code",
   "execution_count": 78,
   "metadata": {},
   "outputs": [
    {
     "data": {
      "text/plain": [
       "0.9627"
      ]
     },
     "execution_count": 78,
     "metadata": {},
     "output_type": "execute_result"
    }
   ],
   "source": [
    "knn_clf = KNeighborsClassifier(n_neighbors=2)\n",
    "knn_clf.fit(X_train, y_train)\n",
    "knn_clf.score(X_test, y_test)"
   ]
  },
  {
   "cell_type": "code",
   "execution_count": 111,
   "metadata": {},
   "outputs": [
    {
     "name": "stdout",
     "output_type": "stream",
     "text": [
      "here\n"
     ]
    },
    {
     "name": "stderr",
     "output_type": "stream",
     "text": [
      "/Users/tomer/opt/anaconda3/lib/python3.9/site-packages/sklearn/svm/_base.py:1206: ConvergenceWarning: Liblinear failed to converge, increase the number of iterations.\n",
      "  warnings.warn(\n"
     ]
    },
    {
     "data": {
      "text/plain": [
       "0.9093"
      ]
     },
     "execution_count": 111,
     "metadata": {},
     "output_type": "execute_result"
    }
   ],
   "source": [
    "#So it seems like we got a good option on 3 neighbors after checking quite a large span of options. \n",
    "#Let's try training a linder classifier on the MNIST DB, Note that we are not scaling here because all the features are in a range 0-1\n",
    "from sklearn.svm import LinearSVC\n",
    "from sklearn.preprocessing import StandardScaler\n",
    "svm_pipeline = Pipeline([\n",
    "            ('std_scaler', StandardScaler()),\n",
    "            (\"svm_clf\", LinearSVC())\n",
    "        ])\n",
    "print(\"here\")\n",
    "svm_pipeline.fit(X_train, y_train)\n",
    "svm_pipeline.score(X_test, y_test)"
   ]
  },
  {
   "cell_type": "code",
   "execution_count": 103,
   "metadata": {},
   "outputs": [
    {
     "data": {
      "text/plain": [
       "SGDClassifier(random_state=42)"
      ]
     },
     "execution_count": 103,
     "metadata": {},
     "output_type": "execute_result"
    }
   ],
   "source": [
    "#Let's try an SGDClassifier aswell and test it against the linearsvc\n",
    "from sklearn.linear_model import SGDClassifier \n",
    "sgd_clf = SGDClassifier(random_state=42)\n",
    "sgd_clf.fit(X_train, y_train)"
   ]
  },
  {
   "cell_type": "code",
   "execution_count": 104,
   "metadata": {},
   "outputs": [
    {
     "data": {
      "text/plain": [
       "0.874"
      ]
     },
     "execution_count": 104,
     "metadata": {},
     "output_type": "execute_result"
    }
   ],
   "source": [
    "sgd_clf.score(X_test, y_test)"
   ]
  },
  {
   "cell_type": "code",
   "execution_count": 112,
   "metadata": {
    "scrolled": true
   },
   "outputs": [
    {
     "name": "stderr",
     "output_type": "stream",
     "text": [
      "/Users/tomer/opt/anaconda3/lib/python3.9/site-packages/sklearn/svm/_base.py:1206: ConvergenceWarning: Liblinear failed to converge, increase the number of iterations.\n",
      "  warnings.warn(\n",
      "/Users/tomer/opt/anaconda3/lib/python3.9/site-packages/sklearn/svm/_base.py:1206: ConvergenceWarning: Liblinear failed to converge, increase the number of iterations.\n",
      "  warnings.warn(\n",
      "/Users/tomer/opt/anaconda3/lib/python3.9/site-packages/sklearn/svm/_base.py:1206: ConvergenceWarning: Liblinear failed to converge, increase the number of iterations.\n",
      "  warnings.warn(\n",
      "/Users/tomer/opt/anaconda3/lib/python3.9/site-packages/sklearn/svm/_base.py:1206: ConvergenceWarning: Liblinear failed to converge, increase the number of iterations.\n",
      "  warnings.warn(\n",
      "/Users/tomer/opt/anaconda3/lib/python3.9/site-packages/sklearn/svm/_base.py:1206: ConvergenceWarning: Liblinear failed to converge, increase the number of iterations.\n",
      "  warnings.warn(\n",
      "/Users/tomer/opt/anaconda3/lib/python3.9/site-packages/sklearn/svm/_base.py:1206: ConvergenceWarning: Liblinear failed to converge, increase the number of iterations.\n",
      "  warnings.warn(\n",
      "/Users/tomer/opt/anaconda3/lib/python3.9/site-packages/sklearn/svm/_base.py:1206: ConvergenceWarning: Liblinear failed to converge, increase the number of iterations.\n",
      "  warnings.warn(\n",
      "/Users/tomer/opt/anaconda3/lib/python3.9/site-packages/sklearn/svm/_base.py:1206: ConvergenceWarning: Liblinear failed to converge, increase the number of iterations.\n",
      "  warnings.warn(\n",
      "/Users/tomer/opt/anaconda3/lib/python3.9/site-packages/sklearn/svm/_base.py:1206: ConvergenceWarning: Liblinear failed to converge, increase the number of iterations.\n",
      "  warnings.warn(\n",
      "/Users/tomer/opt/anaconda3/lib/python3.9/site-packages/sklearn/svm/_base.py:1206: ConvergenceWarning: Liblinear failed to converge, increase the number of iterations.\n",
      "  warnings.warn(\n"
     ]
    },
    {
     "data": {
      "text/plain": [
       "OneVsRestClassifier(estimator=Pipeline(steps=[('std_scaler', StandardScaler()),\n",
       "                                              ('svm_clf', LinearSVC())]))"
      ]
     },
     "execution_count": 112,
     "metadata": {},
     "output_type": "execute_result"
    }
   ],
   "source": [
    "#So that diden't go so well. Maybe we can make it better if we try to use a OvA startegy using SVM's\n",
    "from sklearn.multiclass import OneVsRestClassifier\n",
    "ovo_clf = OneVsRestClassifier(svm_pipeline)\n",
    "ovo_clf.fit(X_train,y_train)\n"
   ]
  },
  {
   "cell_type": "code",
   "execution_count": 113,
   "metadata": {
    "scrolled": true
   },
   "outputs": [
    {
     "data": {
      "text/plain": [
       "0.9088"
      ]
     },
     "execution_count": 113,
     "metadata": {},
     "output_type": "execute_result"
    }
   ],
   "source": [
    "ovo_clf.score(X_test,y_test)\n"
   ]
  },
  {
   "cell_type": "code",
   "execution_count": null,
   "metadata": {},
   "outputs": [],
   "source": []
  }
 ],
 "metadata": {
  "kernelspec": {
   "display_name": "Python 3 (ipykernel)",
   "language": "python",
   "name": "python3"
  },
  "language_info": {
   "codemirror_mode": {
    "name": "ipython",
    "version": 3
   },
   "file_extension": ".py",
   "mimetype": "text/x-python",
   "name": "python",
   "nbconvert_exporter": "python",
   "pygments_lexer": "ipython3",
   "version": "3.9.12"
  }
 },
 "nbformat": 4,
 "nbformat_minor": 1
}
